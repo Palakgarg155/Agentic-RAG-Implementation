{
 "cells": [
  {
   "cell_type": "markdown",
   "metadata": {},
   "source": [
    "**Installing Required Libraries**"
   ]
  },
  {
   "cell_type": "code",
   "execution_count": 1,
   "metadata": {},
   "outputs": [],
   "source": [
    "! pip install langchain_openai langchain langchain_community langchain_pinecone docarray pydantic==2.7.0 python-dotenv pandas tiktoken PyPDF2 fastapi uvicorn --quiet "
   ]
  },
  {
   "cell_type": "markdown",
   "metadata": {},
   "source": [
    "**LLM Initialization**"
   ]
  },
  {
   "cell_type": "code",
   "execution_count": 2,
   "metadata": {},
   "outputs": [],
   "source": [
    "import os\n",
    "from dotenv import load_dotenv\n",
    "from langchain_openai.chat_models import ChatOpenAI\n",
    "\n",
    "load_dotenv()\n",
    "\n",
    "# Initialize OpenAI model\n",
    "OPENAI_API_KEY = os.getenv(\"OPENAI_API_KEY\")\n",
    "model = ChatOpenAI(openai_api_key=OPENAI_API_KEY, model=\"gpt-3.5-turbo\")"
   ]
  },
  {
   "cell_type": "markdown",
   "metadata": {},
   "source": [
    "**Loading the PDF** "
   ]
  },
  {
   "cell_type": "code",
   "execution_count": 3,
   "metadata": {},
   "outputs": [],
   "source": [
    "from PyPDF2 import PdfReader\n",
    "\n",
    "# Initialize PDF reader\n",
    "pdf_reader = PdfReader('knowledge_base.pdf')\n",
    "\n",
    "# Extract text from each page\n",
    "raw_text = ''\n",
    "for page in pdf_reader.pages:\n",
    "    content = page.extract_text()\n",
    "    if content:\n",
    "        raw_text += content"
   ]
  },
  {
   "cell_type": "code",
   "execution_count": 4,
   "metadata": {},
   "outputs": [
    {
     "data": {
      "text/plain": [
       "('Everyday we hear sounds from various\\nsources like humans, bir ds, bells, machines,\\nvehicles, televisions, radios etc. Sound is a\\nform of ener gy which pr oduces a sensation\\nof hearing in our ears. Ther e are also other\\nforms of energy like mechanical energy, light\\nenergy, etc. W e have talked about mechanical\\nenergy in the pr evious chapters. Y ou have\\nbeen taught about conservation of energy,\\nwhich states that we can neither create nor\\ndestr oy ener gy. W e  can just change it fr om\\none for m to another . When you clap, a sound\\nis produced. Can you produce sound without\\nutilising your energy? Which form of energy\\ndid you use to produce sound? In this\\nchapter we are going to learn how sound is\\nproduced and how it is transmitted through\\na medium and received by our ears.\\n11.1 Production of Sound\\nActivity _____________ 11.1\\n•Take a tuning fork and set it vibrating\\nby striking its pr ong on a rubber pad.\\nBring it near your ear .\\n•Do you hear any sound?\\n•Touch one of the pr ongs of the vibrating\\ntuning fork with your finger and shar e\\nyour experience with your friends.\\n•Now, suspend a table tennis ball or a\\nsmall plastic ball by a thr ead fr om a\\nsupport [T ake a big needle and a\\nthread, put a knot at one end of the\\nthread, and then with the help of the\\nneedle pass the thr ead thr ough the\\nball]. T ouch the ball gently with the\\nprong of a vibrating tuning\\nfork (Fig. 11.1).\\n•Observe what happens and discuss\\nwith your friends.Activity _____________ 11.2\\n•Fill water in a beaker or a glass up to\\nthe brim. Gently touch the water sur face\\nwith one of the pr ongs of the vibrating\\ntuning fork, as shown in Fig. 1 1.2.\\n•Next dip the pr ongs of the vibrating\\ntuning fork in water , as shown in Fig.\\n11.3.\\n•Observe what happens in both the\\ncases.\\n•Discuss with your friends why this\\nhappens.Fig. 11.1:  Vibrating tuning fork just touching the\\nsuspended table tennis ball.\\nFig. 11.2:   One of the prongs of the vibrating tuning\\nfork touching the water sur face.11\\nSSS\\nSSOUND OUNDOUND OUNDOUNDChapter\\nRationalised 2023-24\\nSCIENCE 128the vibrating object to the ear . A particle of\\nthe medium in contact with the vibrating\\nobject is first displaced fr om its equilibrium\\nposition. It then exerts a for ce on the adjacent\\nparticle. As a r esult of which the adjacent\\nparticle gets displaced fr om its position of\\nrest. After displacing the adjacent particle the\\nfirst particle comes back to its original\\nposition. This pr ocess continues in the\\nmedium till the sound r eaches your ear . The\\ndisturbance created by a source of  sound in\\nthe medium travels through the medium and\\nnot the particles of the medium.\\nA wave is a disturbance that moves\\nthrough a medium when the particles of the\\nmedium set neighbouring particles into\\nmotion. They in tur n produce similar motion\\nin others. The particles of the medium do not\\nmove forwar d themselves, but the\\ndisturbance is carried forwar d. This is what\\nhappens during pr opagation of sound in a\\nmedium, hence sound can be visualised as a\\nwave. Sound waves are characterised by the\\nmotion of particles in the medium and ar e\\ncalled mechanical waves.\\nAir is the most common medium thr ough\\nwhich sound travels. When a vibrating object\\nmoves forward, it pushes and compresses the\\nair in front of it creating a region of high\\npressur e. This r egion is called a compr ession\\n(C), as shown in Fig. 11.4. This compression\\nstarts to move away from the vibrating object.\\nWhen the vibrating object moves backwar ds,\\nit creates a r egion of low pr essur e called\\nrarefaction (R), as shown in Fig. 11.4. As the\\nobject moves back and forth rapidly, a series\\nof compressions and rarefactions is created in\\nthe air . These make the sound wave thatFig. 11.3: Both the prongs of the vibrating tuning\\nfork dipped in water\\nFrom the above activities what do you\\nconclude? Can you pr oduce sound without\\na vibrating object?\\nIn the above activities we have pr oduced\\nsound by striking the tuning fork. W e can\\nalso pr oduce sound by plucking, scratching,\\nrubbing, blowing or shaking dif ferent objects.\\nAs per the above activities what do we do to\\nthe objects? W e set the objects vibrating and\\nproduce sound. V ibration means a kind of\\nrapid to and fr o motion of an object. The\\nsound of the human voice is pr oduced due\\nto vibrations in the vocal cor ds. When a bir d\\nflaps its wings, do you hear any sound? Think\\nhow the buzzing sound accompanying a bee\\nis produced. A str etched rubber band when\\nplucked vibrates and produces sound. If you\\nhave never done this, then do it and observe\\nthe vibration of the str etched rubber band.\\nActivity _____________ 11.3\\n•Make a list of different types of\\nmusical instruments and discuss\\nwith your friends which part of the\\ninstrument vibrates to produce\\nsound.\\n11.2Propagation of Sound\\nSound is pr oduced by vibrating objects. The\\nmatter or substance thr ough which sound\\nis transmitted is called a medium. It can be\\nsolid, liquid or gas. Sound moves thr ough a\\nmedium from the point of generation to the\\nlistener . When an object vibrates, it sets the\\nparticles of the medium ar ound it vibrating.\\nThe particles do not travel all the way fromFig. 11.4: A vibrating object creating a series of\\ncompr essions (C) and rar efactions (R) in\\nthe medium.\\nRationalised 2023-24\\nSOUND 129propagates through the medium.\\nCompr ession is the r egion of high pr essur e\\nand rar efaction is the r egion of low pr essur e.\\nPressur e is related to the number of particles\\nof a medium in a given volume. Mor e density\\nof the particles in the medium gives mor e\\npressur e and vice versa. Thus, pr opagation\\nof sound can be visualised as pr opagation of\\ndensity variations or pr essur e variations in\\nthe medium.\\nuestion\\n1.How does the sound produced by\\na vibrating object in a medium\\nreach your ear?\\n2.Explain how sound is produced\\nby your school bell.\\n3.Why are sound waves called\\nmechanical waves?\\n4.Suppose you and your friend are\\non the moon. W ill you be able to\\nhear any sound pr oduced by\\nyour friend?\\n11.2.1 SOUND  WAVES  ARE LONGITUDINAL\\nWAVES\\nActivity _____________ 11.4\\n•Take a slinky.  Ask your friend to hold\\none end. Y ou hold the other end.\\nNow str etch the slinky as shown in\\nFig. 11.5(a). Then give it a sharp push\\ntowards your friend.\\n•What do you notice? If you move your\\nhand pushing and pulling the slinky\\nalternatively, what will you observe?\\n•If you mark a dot on the slinky, you\\nwill observe that the dot on the slinky\\nwill move back and forth parallel to\\nthe direction of the propagation of the\\ndisturbance.The regions where the coils become closer\\nare called compressions (C) and the regions\\nwhere the coils are further apart are called\\nrarefactions (R). As we already know, sound\\npropagates in the medium as a series of\\ncompressions and rarefactions. Now, we can\\ncompare the propagation of disturbance in a\\nslinky with the sound propagation in the\\nmedium. These waves are called longitudinal\\nwaves. In these waves the individual particles\\nof the medium move in a direction parallel to\\nthe direction of propagation of the disturbance.\\nThe particles do not move from one place to\\nanother but they simply oscillate back and\\nforth about their position of rest. This is\\nexactly how a sound wave propagates, hence\\nsound waves are longitudinal waves.\\nThere is also another type of wave, called\\na transverse wave. In a transverse wave\\nparticles do not oscillate along the direction\\nof wave propagation but oscillate up and down\\nabout their mean position as the wave travels.\\nThus, a transverse wave is the one in which\\nthe individual particles of the medium move\\nabout their mean positions in a direction\\nperpendicular to the direction of wave\\npropagation. When we drop a pebble in a\\npond, the waves you see on the water surface\\nis an example of transverse wave. Light is a\\ntransverse wave but for light, the oscillations\\nare not of the medium particles or their\\npressure or density— it is not a mechanical\\nwave. Y ou will come to know mor e about\\ntransverse waves in higher classes.\\n11.2.2 CHARACTERISTICS  OF A SOUND\\nWAVE\\nWe can describe a sound wave by its\\n•frequency\\n•amplitude and\\n•speed.Q\\nA sound wave in graphic form is shown in\\nFig. 11.6(c), which represents how density and\\npressure change when the sound wave moves\\nin the medium. The density as well as the\\npressure of the medium at a given time varies\\nwith distance, above and below the average\\nvalue of density and pressure. Fig. 11.6(a) and(b)(a)\\nFig. 11.5:  Longitudinal wave in a slinky.\\nRationalised 2023-24\\nSCIENCE 130Heinrich Rudolph Hertz\\nwas born on 22 February\\n1857 in Hamburg,\\nGermany and educated at\\nthe University of Berlin. He\\nconfirmed J.C. Maxwell’s\\nelectromagnetic theory by\\nhis experiments. He laid the\\nfoundation for future\\ndevelopment of radio, telephone, telegraph\\nand even television. He also discovered the\\nphotoelectric effect which was later\\nexplained by Albert Einstein. The SI unit of\\nfrequency was named as hertz in his honour .Fig. 11.6(b) represent the density and\\npressure variations, respectively, as a sound\\nwave propagates in the medium.\\nCompressions are the regions where\\nparticles are crowded together and\\nrepresented by the upper portion of the curve\\nin Fig. 11.6(c). The peak represents the region\\nof maximum compression. Thus,\\ncompressions are regions where density as\\nwell as pressure is high. Rarefactions are the\\nregions of low pressure where particles are\\nspread apart and are represented by the\\nvalley, that is, the lower portion of the curve\\nin Fig. 11.6(c). A peak is called the crest and a\\nvalley is called the trough of a wave.\\nThe distance between two consecutive\\ncompressions (C) or two consecutive\\nrarefactions (R) is called the wavelength, as\\nshown in Fig. 11.6(c), The wavelength is\\nusually represented by λ (Greek letter\\nlambda). Its SI unit is metre (m).\\nH. R. Hertz\\nFig. 11.6: Sound propagates as density or pressure variations as shown in (a) and (b), (c) represents\\ngraphically the density and pr essur e variations.Frequency tells us how frequently an\\nevent occurs. Suppose you are beating a\\ndrum. How many times you are beating the\\ndrum in unit time is called the frequency of\\nyour beating the drum. W e know that when\\nsound is propagated through a medium, the\\nRationalised 2023-24\\nSOUND 131How the brain interprets the frequency\\nof an emitted sound is called its pitch. The\\nfaster the vibration of the source, the\\nhigher is the frequency and the higher is\\nthe pitch, as shown in Fig. 11.7. Thus, a\\nhigh pitch sound corresponds to more\\nnumber of compressions and rarefactions\\npassing a fixed point per unit time.\\nObjects of different sizes and conditions\\nvibrate at different frequencies to produce\\nsounds of different pitch.\\nThe magnitude of the maximum\\ndisturbance in the medium on either side of\\nthe mean value is called the amplitude of the\\nwave. It is usually represented by the letter A,as shown in Fig. 11.6(c). For sound its unit\\nwill be that of density or pressure.\\nThe loudness or softness of a sound is\\ndetermined basically by its amplitude. The\\namplitude of the sound wave depends upon\\nthe force with which an object is made to\\nvibrate. If we strike a table lightly, we hear a\\nsoft sound because we produce a sound wavedensity of the medium oscillates between a\\nmaximum value and a minimum value. The\\nchange in density from the maximum value\\nto the minimum value, then again to the\\nmaximum value, makes one complete\\noscillation. The number of such oscillations\\nper unit time is the frequency of the sound\\nwave. If we can count the number of the\\ncompressions or rarefactions that cross us\\nper unit time, we will get the frequency of\\nthe sound wave. It is usually represented by\\nν (Greek letter , nu). Its SI unit is hertz\\n(symbol, Hz).\\nThe time taken by two consecutive\\ncompressions or rarefactions to cross a fixed\\npoint is called the time period of the wave. In\\nother words, we can say that the time taken\\nfor one complete oscillation is called the time\\nperiod of the sound wave. It is represented by\\nthe symbol T. Its SI unit is second (s).\\nFrequency and time period are related as\\nfollows:\\n A violin and a flute may both be played at\\nthe same time in an orchestra. Both sounds\\ntravel through the same medium, that is, air\\nand arrive at our ear at the same time. Both\\nsounds travel at the same speed irrespective\\nof the source. But the sounds we receive are\\ndifferent. This is due to the different\\ncharacteristics associated with the sound.\\nPitch is one of the characteristics.=1vTFig. 11.7:  Low pitch sound has low frequency and\\nhigh pitch of sound has high frequency.\\nFig. 11.8: Soft sound has small amplitude and\\nlouder sound has large amplitude.\\nRationalised 2023-24\\nSCIENCE 132QQuestions\\n1.Which wave property determines\\n(a) loudness, (b) pitch?\\n2.Guess which sound has a higher\\npitch: guitar or car horn?\\nThe speed of sound is defined as the\\ndistance which a point on a wave, such as a\\ncompression or a rarefaction, travels per unit\\ntime.\\nWe know,\\nspeed, v = distance / time\\n= λ\\nTExample 11.1 A sound wave has a\\nfrequency of 2 kHz and wave length\\n35 cm. How long will it take to travel\\n1.5 km?\\nSolution:\\nGiven,\\nFrequency, ν = 2 kHz = 2000 Hz\\nWavelength, λ = 35 cm = 0.35 m\\nWe know that speed, v of the wave\\n= wavelength × frequency\\nv= λ ν\\n= 0.35 m  2000 Hz = 700 m/s\\nThe time taken by the wave to travel a\\ndistance, d of 1.5 km is\\nThus sound will take 2.1 s to travel a\\ndistance of 1.5 km.\\nuestions\\n1.What ar e wavelength, fr equency,\\ntime period and amplitude of a\\nsound wave?\\n2.How are the wavelength and\\nfrequency of a sound wave\\nrelated to its speed?\\n3.Calculate the wavelength of a\\nsound wave whose fr equency is\\n220 Hz and speed is 440 m/s  in\\na given medium.\\n4.A person is listening to a tone of\\n500 Hz sitting at a distance of\\n450 m from the source of the\\nsound. What is the time interval\\nbetween successive compr essions\\nfrom the source?\\nThe amount of sound energy passing each\\nsecond through unit area is called the intensity\\nof sound. W e sometimes use the ter ms\\n“loudness” and “intensity” interchangeably,\\nbut they are not the same. Loudness is a\\nmeasure of the response of the ear to the sound.\\nEven when two sounds are of equal intensity,\\nwe may hear one as louder than the other\\nsimply because our ear detects it better .of less energy (amplitude). If we hit the table\\nhard we hear a louder sound. Can you tell\\nwhy? A sound wave spreads out from its\\nsource. As it moves away from the source its\\namplitude as well as its loudness decreases.\\nLouder sound can travel a larger distance as\\nit is associated with higher energy. Fig. 11.8\\nshows the wave shapes of a loud and a soft\\nsound of the same frequency.\\nThe quality or timber of sound is that\\ncharacteristic which enables us to distinguish\\none sound from another having the same pitch\\nand loudness. The sound which is more\\npleasant is said to be of a rich quality. A sound\\nof single frequency is called a tone. The sound\\nwhich is produced due to a mixture of several\\nfrequencies is called a note and is pleasant to\\nlisten to. Noise is unpleasant to the ear! Music\\nis pleasant to hear and is of rich quality.\\nHere λ is the wavelength of the sound wave. It\\nis the distance travelled by the sound wave in\\none time period ( T) of the wave. Thus,\\nv = λ ν \\nor v = λ ν\\nThat is, speed = wavelength × frequency.\\nThe speed of sound remains almost the\\nsame for all frequencies in a given medium\\nunder the same physical conditions.\\nRationalised 2023-24\\nSOUND 133uestion\\n1.Distinguish between loudness\\nand intensity of sound.uestion\\n1.In which of the thr ee media, air ,\\nwater or iron, does sound travel\\nthe fastest at a particular\\ntemperature?\\n11.3 Reflection of Sound\\nSound bounces off a solid or a liquid like a\\nrubber ball bounces off a wall. Like light, sound\\ngets reflected at the surface of a solid or liquid\\nand follows the same laws of reflection as you\\nhave studied in earlier classes. The directions\\nin which the sound is incident and is reflected\\nmake equal angles with the normal to the\\nreflecting surface at the point of incidence, and\\nthe three are in the same plane. An obstacle of\\nlarge size which may be polished or rough is\\nneeded for the reflection of sound waves.\\nActivity _____________ 11.5\\n•Take two identical pipes, as shown in\\nFig. 11.9. Y ou can make the pipes\\nusing chart paper . The length of the\\npipes should be sufficiently long\\nas shown.\\n•Arrange them on a table near a wall.\\n•Keep a clock near the open end of one\\nof the pipes and try to hear the sound\\nof the clock through the other pipe.\\n•Adjust the position of the pipes so\\nthat you can best hear the sound of\\nthe clock.\\n•Now, measure the angles of incidence\\nand reflection and see the\\nrelationship between the angles.\\n•Lift the pipe on the right vertically\\nto a small height and observe\\nwhat happens.\\n(In place of a clock, a mobile phone\\non vibrating mode may also be used.)QQ\\n11.2.3 SPEED OF SOUND  IN DIFFERENT\\nMEDIA\\nSound propagates through a medium at a finite\\nspeed. The sound of a thunder is heard  a little\\nlater than the flash of light is seen. So, we can\\nmake out that sound travels with a speed\\nwhich is much less than the speed of light. The\\nspeed of sound depends on the properties of\\nthe medium thr ough which it travels. Y ou will\\nlearn about this dependence in higher classes.\\nThe speed of sound in a medium depends on\\ntemperature of the medium. The speed of\\nsound decreases when we go from solid to\\ngaseous state. In any medium as we increase\\nthe temperature, the speed of sound increases.\\nFor example, the speed of sound in air is 331\\nm s–1 at 0 ºC and 344 m s–1 at 22 ºC. The speeds\\nof sound at a particular temperature in various\\nmedia ar e listed in T able 11.1. Y ou need not\\nmemorise the values.\\nTable 11.1: Speed of sound in\\ndifferent media at 25 ºC\\nState Substance Speed in m/s\\nSolids Aluminium 6420\\nNickel 6040\\nSteel 5960\\nIron 5950\\nBrass 4700\\nGlass (Flint) 3980\\nLiquids Water (Sea) 1531\\nWater (distilled) 1498\\nEthanol 1207\\nMethanol 1103\\nGases Hydrogen 1284\\nHelium 965\\nAir 346\\nOxygen 316\\nSulphur dioxide 213Fig. 11.9:  Reflection of sound\\nRationalised 2023-24\\nSCIENCE 13411.3.1 ECHO\\nIf we shout or clap near a suitable reflecting\\nobject such as a tall building or a\\nmountain,we will hear the same sound\\nagain a little  later . This sound which we\\nhear is called an echo. The sensation of\\nsound persists in our brain for about 0.1\\ns. To hear a distinct echo the time interval\\nbetween the original sound and the\\nreflected one must be  at least 0.1s. If we\\ntake the speed of sound to be 344 m/s at a\\ngiven temperatur e, say at 22 ºC in air , the\\nsound must go to the obstacle and reach\\nback the ear of the listener on reflection after\\n0.1s. Hence, the total distance covered by\\nthe sound from the point of generation to\\nthe reflecting surface and back should be\\nat least (344 m/s) × 0.1 s = 34.4 m. Thus,\\nfor hearing distinct echoes, the minimum\\ndistance of the obstacle from the source of\\nsound must be half of this distance, that\\nis, 17.2 m. This distance will change with\\nthe temperatur e of air . Echoes may be hear d\\nmore than once due to successive or\\nmultiple reflections. The rolling of thunder\\nis due to the successive reflections of the\\nsound from a number of reflecting surfaces,\\nsuch as the clouds and the land.\\n11.3.2 REVERBERATION\\nA sound created in a big hall will persist\\nby repeated reflection from the walls until\\nit is reduced to a value where it is no longer\\naudible. The repeated reflection that\\nresults in this persistence of sound is\\ncalled reverberation. In an auditorium or\\nbig hall excessive reverberation is highly\\nundesirable. To reduce reverberation, the\\nroof and walls of the auditorium are\\ngenerally covered with sound-absorbent\\nmaterials like compressed fibreboard,\\nrough plaster or draperies. The seat\\nmaterials are also selected on the basis of\\ntheir sound absorbing properties.\\nExample 11.2  A person clapped his hands\\nnear a cliff and heard the echo after 2 s.What is the distance of the cliff from the\\nperson if the speed of the sound, v is\\ntaken as 346 m s–1?\\nSolution:\\nGiven,\\nSpeed of sound, v = 346 m s–1\\nTime taken for hearing the echo,\\nt = 2 s\\nDistance travelled by the sound\\n= v × t = 346 m s–1 × 2 s = 692 m\\nIn 2 s sound has to travel twice the\\ndistance between the cliff and the\\nperson. Hence, the distance between the\\ncliff and the person\\n= 692 m/2 = 346 m.\\nQ\\nHorn\\nMegaphone\\nFig 11.10:   A megaphone and a horn.uestion\\n1.An echo is heard in 3 s. What is\\nthe distance of the reflecting\\nsurface from the source, given that\\nthe speed of sound is  342  m s–1?\\n11.3.3 USES OF MULTIPLE  REFLECTION\\nOF SOUND\\n1.Megaphones or loudhailers, horns,\\nmusical instruments such as trumpets\\nand shehanais , are all designed to send\\nsound in a particular direction without\\nspreading it in all directions, as shown\\nin Fig 11.10.\\nRationalised 2023-24\\nSOUND 1352.Stethoscope is a medical instrument\\nused for listening to sounds produced\\nwithin the body, mainly in the heart or\\nlungs. In stethoscopes the sound of the\\npatient’s heartbeat reaches the doctor’s\\nears by multiple reflection of sound, as\\nshown in Fig.11.11.\\nFig. 11.12:  Curved ceiling of a conference hall.Fig. 11.13:  Sound board used in a big hall.\\nuestion\\n1.Why are the ceilings of concert\\nhalls curved?\\n11.4Range of Hearing\\nThe audible range of sound for human beings\\nextends from about 20 Hz to 20000 Hz (one\\nHz = one cycle/s). Children under the age of\\nfive and some animals, such as dogs can hear\\nup to 25 kHz (1 kHz = 1000 Hz). As people\\ngrow older their ears become less sensitive to\\nhigher frequencies. Sounds of frequencies\\nbelow 20 Hz are called infrasonic sound or\\ninfrasound. If we could hear infrasound we\\nwould hear the vibrations of a pendulum just\\nas we hear the vibrations of the wings of a bee.\\nRhinoceroses communicate using infrasound\\nof frequency as low as 5 Hz. Whales and\\nelephants produce sound in the infrasound\\nrange. It is observed that some animals get\\ndisturbed before earthquakes. Earthquakes\\nproduce low-frequency infrasound before the\\nmain shock waves begin which possibly alert\\nthe animals. Frequencies higher than 20 kHz\\nare called ultrasonic sound or ultrasound.\\nUltrasound is produced by animals such as\\ndolphins, bats and porpoises. Moths of certain\\nfamilies have very sensitive hearing equipment.\\nThese moths can hear the high frequencyQ\\nFig.11.11:  Stethoscope\\n3.Generally the ceilings of concert halls,\\nconference halls and cinema halls are\\ncurved so that sound after reflection\\nreaches all corners of the hall, as\\nshown in Fig 1 1.12. Sometimes a\\ncurved soundboard may be placed\\nbehind the stage so that the sound,\\nafter reflecting from the sound board,\\nspreads evenly across the width of the\\nhall (Fig 1 1.13).In these instruments, a tube followed\\nby a conical opening reflects sound\\nsuccessively to guide most of the\\nsound waves from the source in the\\nforward direction towards the\\naudience.\\nRationalised 2023-24\\nSCIENCE 136squeaks of the bat and know when a bat\\nis flying nearby, and are able to escape\\ncapture. Rats also play games by\\nproducing ultrasound.\\nHearing Aid: People with hearing loss may\\nneed a hearing aid. A hearing aid is an\\nelectronic, battery operated device. The\\nhearing aid receives sound through a\\nmicrophone. The microphone converts the\\nsound waves to electrical signals. These\\nelectrical signals are amplified by an\\namplifier . The amplified electrical signals\\nare given to a speaker of the hearing aid.\\nThe speaker converts the amplified\\nelectrical signal to sound and sends to the\\near for clear hearing.in construction of big structures like\\nbuildings, bridges, machines and also\\nscientific equipment. The cracks or\\nholes inside the metal blocks, which\\nare invisible from outside reduces the\\nstrength of the structure. Ultrasonic\\nwaves are allowed to pass through the\\nmetal block and detectors are used to\\ndetect the transmitted waves. If there\\nis even a small defect, the ultrasound\\ngets reflected back indicating the\\npresence of the flaw or defect, as shown\\nin Fig. 11.14.\\nQ\\nMetallic components are generally useduestions\\n1.What is the audible range of the\\naverage human ear?\\n2.What is the range of frequencies\\nassociated with\\n(a)Infrasound?\\n(b)Ultrasound?\\n11.5Applications of Ultrasound\\nUltrasounds are high frequency waves.\\nUltrasounds are able to travel along well-\\ndefined paths even in the presence of\\nobstacles. Ultrasounds are used extensively\\nin industries and for medical purposes.\\n•Ultrasound is generally used to clean\\nparts located in hard-to-reach places,\\nfor example, spiral tube, odd shaped\\nparts, electronic components, etc.\\nObjects to be cleaned are placed in a\\ncleaning solution and ultrasonic waves\\nare sent into the solution. Due to\\nthe high frequency, the particles of\\ndust, grease and dirt get detached and\\ndrop out. The objects thus get\\nthoroughly cleaned.\\n•Ultrasounds can be used to detect\\ncracks and flaws in metal blocks.Fig 11.14:  Ultrasound is reflected back from the\\ndefective locations inside a metal block.\\nOrdinary sound of longer wavelengths\\ncannot be used for such purpose as it will\\nbend around the corners of the defective\\nlocation and enter the detector .\\n•Ultrasonic waves are made to reflect\\nfrom various parts of the heart and\\nform the image of the heart. This  tech-\\nnique is called ‘echocardiography’.\\n•Ultrasound scanner is an instrument\\nwhich uses ultrasonic waves for\\ngetting images of internal organs of the\\nhuman body. A doctor may image the\\npatient’s or gans, such as the liver , gall\\nbladder , uterus, kidney, etc. It helps\\nthe doctor to detect abnormalities,\\nsuch as stones in the gall bladder and\\nkidney or tumours in different organs.\\nIn this technique the ultrasonic waves\\ntravel through the tissues of the body\\nand get reflected from a region where\\nthere is a change of tissue density.\\nRationalised 2023-24\\nSCIENCE 136squeaks of the bat and know when a bat\\nis flying nearby, and are able to escape\\ncapture. Rats also play games by\\nproducing ultrasound.\\nHearing Aid:  People with hearing loss may\\nneed a hearing aid. A hearing aid is an\\nelectronic, battery operated device. The\\nhearing aid receives sound through a\\nmicrophone. The microphone converts the\\nsound waves to electrical signals. These\\nelectrical signals are amplified by an\\namplifier . The amplified electrical signals\\nare given to a speaker of the hearing aid.\\nThe speaker converts the amplified\\nelectrical signal to sound and sends to the\\near for clear hearing.in construction of big structures like\\nbuildings, bridges, machines and also\\nscientific equipment. The cracks or\\nholes inside the metal blocks, which\\nare invisible from outside reduces the\\nstrength of the structure. Ultrasonic\\nwaves are allowed to pass through the\\nmetal block and detectors are used to\\ndetect the transmitted waves. If there\\nis even a small defect, the ultrasound\\ngets reflected back indicating the\\npresence of the flaw or defect, as shown\\nin Fig. 11.14.\\nQ\\nMetallic components are generally useduestions\\n1.What is the audible range of the\\naverage human ear?\\n2.What is the range of frequencies\\nassociated with\\n(a)Infrasound?\\n(b)Ultrasound?\\n11.5Applications of Ultrasound\\nUltrasounds are high frequency waves.\\nUltrasounds are able to travel along well-\\ndefined paths even in the presence of\\nobstacles. Ultrasounds are used extensively\\nin industries and for medical purposes.\\n•Ultrasound is generally used to clean\\nparts located in hard-to-reach places,\\nfor example, spiral tube, odd shaped\\nparts, electronic components, etc.\\nObjects to be cleaned are placed in a\\ncleaning solution and ultrasonic waves\\nare sent into the solution. Due to\\nthe high frequency, the particles of\\ndust, grease and dirt get detached and\\ndrop out. The objects thus get\\nthoroughly cleaned.\\n•Ultrasounds can be used to detect\\ncracks and flaws in metal blocks.Fig 11.14:  Ultrasound is reflected back from the\\ndefective locations inside a metal block.\\nOrdinary sound of longer wavelengths\\ncannot be used for such purpose as it will\\nbend around the corners of the defective\\nlocation and enter the detector .\\n•Ultrasonic waves are made to reflect\\nfrom various parts of the heart and\\nform the image of the heart. This  tech-\\nnique is called ‘echocardiography’.\\n•Ultrasound scanner is an instrument\\nwhich uses ultrasonic waves for\\ngetting images of internal organs of the\\nhuman body. A doctor may image the\\npatient’s or gans, such as the liver , gall\\nbladder , uterus, kidney, etc. It helps\\nthe doctor to detect abnormalities,\\nsuch as stones in the gall bladder and\\nkidney or tumours in different organs.\\nIn this technique the ultrasonic waves\\ntravel through the tissues of the body\\nand get reflected from a region where\\nthere is a change of tissue density.\\nRationalised 2023-24\\nSOUND 137What\\nyou have\\nlearnt\\n• Sound is produced due to vibration of different objects.\\n• Sound travels as a longitudinal wave through a material\\nmedium.\\n• Sound travels as successive compressions and rarefactions\\nin the medium.\\n• In sound propagation, it is the energy of the sound that\\ntravels and not the particles of the medium.\\n• The change in density from one maximum value to the\\nminimum value and again to the maximum value makes\\none complete oscillation.\\n• The distance between two consecutive compressions or two\\nconsecutive rarefactions is called the wavelength, λ.\\n• The time taken by the wave for one complete oscillation of\\nthe density or pressure of the medium is called the time\\nperiod, T.\\n• The number of complete oscillations per unit time is called\\nthe frequency (ν ), 1=v.T\\n• The speed v, frequency ν, and wavelength λ, of sound are\\nrelated by the equation, v  = λν.\\n• The speed of sound depends primarily on the nature and\\nthe temperature of the transmitting medium.\\n• The law of reflection of sound states that the directions in\\nwhich the sound is incident and reflected make equal angles\\nwith the normal to the reflecting surface at the point of\\nincidence and the three lie in the same plane.\\n• For hearing a distinct sound, the time interval between the\\noriginal sound and the reflected one must be at least 0.1 s.\\n• The persistence of sound in an auditorium is the result of\\nrepeated reflections of sound and is called reverberation.These waves are then converted into\\nelectrical signals that are used to\\ngenerate images of the organ. These\\nimages are then displayed on a monitor\\nor printed on a film. This technique\\nis called ‘ultrasonography’.\\nUltrasonography is also used forexamination of the foetus during\\npregnancy to detect congenial defects\\nand growth abnormalities.\\n•Ultrasound may be employed to break\\nsmall ‘stones’ formed in the kidneys\\ninto fine grains. These grains later get\\nflushed out with urine.\\nRationalised 2023-24\\nSCIENCE 138• Loudness is a physiological response of the ear to the intensity\\nof sound.\\n• The amount of sound energy passing each second through\\nunit area is called the intensity of sound.\\n• The audible range of hearing for average human beings is in\\nthe frequency range of 20 Hz – 20 kHz.\\n• Sound waves with frequencies below the audible range are\\ntermed “infrasonic” and those above the audible range are\\ntermed “ultrasonic”.\\n• Ultrasound has many medical and industrial applications.\\nExercises\\n1.What is sound and how is it produced?\\n2.Describe with the help of a diagram, how compressions and\\nrarefactions are produced in air near a source of sound.\\n3.Why is sound wave called a longitudinal wave?\\n4.Which characteristic of the sound helps you to identify your\\nfriend by his voice while sitting with others in a dark room?\\n5.Flash and thunder are produced simultaneously. But\\nthunder is heard a few seconds after the flash is seen, why?\\n6.A person has a hearing range from 20 Hz to 20 kHz. What\\nare the typical wavelengths of sound waves in air\\ncorresponding to these two frequencies? Take the speed of\\nsound in air as 344 m s–1.\\n7.Two children are at opposite ends of an aluminium rod. One\\nstrikes the end of the rod with a stone. Find the ratio of\\ntimes taken by the sound wave in air and in aluminium to\\nreach the second child.\\n8.The frequency of a source of sound is 100 Hz. How many\\ntimes does it vibrate in a minute?\\n9.Does sound follow the same laws of reflection as light does?\\nExplain.\\n10. When a sound is reflected from a distant object, an echo is\\nproduced. Let the distance between the reflecting surface\\nand the source of sound production remains the same. Do\\nyou hear echo sound on a hotter day?\\n11. Give two practical applications of reflection of sound waves.\\n12. A stone is dropped from the top of a tower 500 m high into a\\npond of water at the base of the tower . When is the splash\\nheard at the top? Given, g = 10 m s–2 and speed of sound  =\\n340 m s–1.• Sound properties such as pitch, loudness and quality are\\ndetermined by the corresponding wave properties.\\nRationalised 2023-24\\nSOUND 13913. A sound wave travels at a speed of 339 m s–1. If its wavelength\\nis 1.5 cm, what is the frequency of the wave? Will it be\\naudible?\\n14. What is reverberation? How can it be reduced?\\n15. What is loudness of sound? What factors does it depend on?\\n16. How is ultrasound used for cleaning?\\n17. Explain how defects in a metal block can be detected using\\nultrasound.\\nRationalised 2023-24\\n',\n",
       " str)"
      ]
     },
     "execution_count": 4,
     "metadata": {},
     "output_type": "execute_result"
    }
   ],
   "source": [
    "type(raw_text)"
   ]
  },
  {
   "cell_type": "markdown",
   "metadata": {},
   "source": [
    "**Chunking Text**"
   ]
  },
  {
   "cell_type": "code",
   "execution_count": 5,
   "metadata": {},
   "outputs": [
    {
     "name": "stderr",
     "output_type": "stream",
     "text": [
      "Created a chunk of size 101, which is longer than the specified 100\n"
     ]
    }
   ],
   "source": [
    "from langchain.text_splitter import CharacterTextSplitter\n",
    "from langchain.schema import Document\n",
    "\n",
    "# Initialize text splitter\n",
    "text_splitter = CharacterTextSplitter(\n",
    "    separator=\"\\n\",\n",
    "    chunk_size=100,\n",
    "    chunk_overlap=20,\n",
    "    length_function=len\n",
    ")\n",
    "\n",
    "# Split the raw text into chunks\n",
    "texts = text_splitter.split_text(raw_text)\n",
    "\n",
    "# Convert text chunks to Document objects\n",
    "documents = [Document(page_content=text) for text in texts]"
   ]
  },
  {
   "cell_type": "code",
   "execution_count": 6,
   "metadata": {},
   "outputs": [
    {
     "data": {
      "text/plain": [
       "(['Everyday we hear sounds from various\\nsources like humans, bir ds, bells, machines,',\n",
       "  'vehicles, televisions, radios etc. Sound is a\\nform of ener gy which pr oduces a sensation',\n",
       "  'of hearing in our ears. Ther e are also other\\nforms of energy like mechanical energy, light',\n",
       "  'energy, etc. W e have talked about mechanical\\nenergy in the pr evious chapters. Y ou have',\n",
       "  'been taught about conservation of energy,\\nwhich states that we can neither create nor'],\n",
       " list,\n",
       " 413)"
      ]
     },
     "execution_count": 6,
     "metadata": {},
     "output_type": "execute_result"
    }
   ],
   "source": [
    "texts[:5], type(texts), len(texts)"
   ]
  },
  {
   "cell_type": "markdown",
   "metadata": {},
   "source": [
    "**Creating Embeddings**"
   ]
  },
  {
   "cell_type": "code",
   "execution_count": 7,
   "metadata": {},
   "outputs": [],
   "source": [
    "from langchain_openai.embeddings import OpenAIEmbeddings\n",
    "\n",
    "# Initialize OpenAI embeddings\n",
    "embeddings = OpenAIEmbeddings()"
   ]
  },
  {
   "cell_type": "markdown",
   "metadata": {},
   "source": [
    "**Setting up the Vector Store**"
   ]
  },
  {
   "cell_type": "code",
   "execution_count": 8,
   "metadata": {},
   "outputs": [
    {
     "name": "stderr",
     "output_type": "stream",
     "text": [
      "c:\\Users\\hp\\AppData\\Local\\Programs\\Python\\Python311\\Lib\\site-packages\\pinecone\\data\\index.py:1: TqdmWarning: IProgress not found. Please update jupyter and ipywidgets. See https://ipywidgets.readthedocs.io/en/stable/user_install.html\n",
      "  from tqdm.autonotebook import tqdm\n"
     ]
    }
   ],
   "source": [
    "from langchain_pinecone import PineconeVectorStore\n",
    "\n",
    "index_name = \"agentic-rag\"\n",
    "\n",
    "# Initialize Pinecone vector store\n",
    "pinecone = PineconeVectorStore.from_documents(\n",
    "    documents, embeddings, index_name=index_name\n",
    ")"
   ]
  },
  {
   "cell_type": "markdown",
   "metadata": {},
   "source": [
    "**Chaining Components for Contextual Question Answering**"
   ]
  },
  {
   "cell_type": "code",
   "execution_count": 9,
   "metadata": {},
   "outputs": [],
   "source": [
    "from langchain_core.output_parsers import StrOutputParser\n",
    "from langchain.prompts import ChatPromptTemplate\n",
    "from langchain_core.runnables import RunnablePassthrough\n",
    "\n",
    "# Output parser\n",
    "parser = StrOutputParser()\n",
    "\n",
    "# Prompt template\n",
    "template = \"\"\"\n",
    "Answer the question based on the context below. If you can't answer the question, reply \"I'm unable to resolve that with my current capabilities.\".\n",
    "\n",
    "Context: {context}\n",
    "\n",
    "Question: {question}\n",
    "\"\"\"\n",
    "prompt = ChatPromptTemplate.from_template(template)\n",
    "\n",
    "retrieved_contexts = []\n",
    "\n",
    "# Log the retrieved context\n",
    "def log_context(inputs):\n",
    "    context_content = [input.page_content for input in inputs['context']]\n",
    "    retrieved_contexts.append(context_content)\n",
    "    return inputs\n",
    "\n",
    "# Chain to retrieve context, log, run the prompt, and parse the output\n",
    "chain = {\n",
    "    \"context\": pinecone.as_retriever(search_kwargs={\"k\": 5}), \n",
    "    \"question\": RunnablePassthrough()\n",
    "} | RunnablePassthrough(log_context) | prompt | model | parser"
   ]
  },
  {
   "cell_type": "markdown",
   "metadata": {},
   "source": [
    "**Agent for Selective Retrieval**"
   ]
  },
  {
   "cell_type": "code",
   "execution_count": 10,
   "metadata": {},
   "outputs": [],
   "source": [
    "import re\n",
    "\n",
    "class DomainClassifierTool:\n",
    "    def __init__(self, domain, keywords):\n",
    "        self.domain = domain\n",
    "        self.keywords = keywords\n",
    "\n",
    "    def classify_query(self, query):\n",
    "        # Convert query to lowercase for case-insensitive matching\n",
    "        query_lower = query.lower()\n",
    "        for keyword in self.keywords:\n",
    "            # Check if keyword is in the query\n",
    "            if re.search(r'\\b' + re.escape(keyword.lower()) + r'\\b', query_lower):\n",
    "                return True\n",
    "        return False\n",
    "\n",
    "if __name__ == \"__main__\":\n",
    "    # Keywords related to the \"Sound\" chapter\n",
    "    relevant_keywords = [\n",
    "        \"sound\", \"wave\", \"vibration\", \"frequency\", \"amplitude\", \"wavelength\",\n",
    "        \"pitch\", \"loudness\", \"echo\", \"reverberation\", \"sonic boom\", \"ultrasound\",\n",
    "        \"infrasound\", \"decibel\", \"noise pollution\", \"musical instrument\",\n",
    "        \"longitudinal wave\", \"compressions\", \"rarefactions\", \"speed of sound\",\n",
    "        \"medium\", \"reflection of sound\", \"absorption of sound\"\n",
    "    ]\n",
    "    # Initialize the classifier for the Sound chapter domain\n",
    "    selective_retrieval_agent = DomainClassifierTool(\"Sound Chapter (NCERT Class 9)\", relevant_keywords)"
   ]
  },
  {
   "cell_type": "markdown",
   "metadata": {},
   "source": [
    "**Agent for Web Search**"
   ]
  },
  {
   "cell_type": "code",
   "execution_count": 11,
   "metadata": {},
   "outputs": [],
   "source": [
    "import requests\n",
    "from urllib.parse import quote_plus\n",
    "\n",
    "class GoogleSearchClient:\n",
    "    def __init__(self, api_key):\n",
    "        self.api_key = api_key\n",
    "        self.search_engine_id = os.getenv(\"SEARCH_ENGINE_ID\")\n",
    "        self.base_url = \"https://www.googleapis.com/customsearch/v1\"\n",
    "\n",
    "    def search(self, query, num_results=3):\n",
    "        # Build the URL for the search query\n",
    "        encoded_query = quote_plus(query)\n",
    "        url = f\"{self.base_url}?key={self.api_key}&cx={self.search_engine_id}&q={encoded_query}&num={num_results}\"\n",
    "        \n",
    "        try:\n",
    "            # Send the request and return links from the results\n",
    "            response = requests.get(url)\n",
    "            response.raise_for_status()\n",
    "        except requests.exceptions.RequestException as e:\n",
    "            print(f\"Error during search: {e}\")\n",
    "            return []\n",
    "\n",
    "        results = response.json().get('items', [])\n",
    "        return [item['link'] for item in results]\n",
    "\n",
    "class SearchManager:\n",
    "    def __init__(self, web_search_tool):\n",
    "        self.web_search_tool = web_search_tool\n",
    "\n",
    "    def get_search_results(self, query):\n",
    "        # Retrieve search results or return a fallback message\n",
    "        search_results = self.web_search_tool.search(query)\n",
    "        return search_results if search_results else \"No results found.\"\n",
    "\n",
    "# Initialize search client and manager\n",
    "api_key = os.getenv(\"CUSTOM_SEARCH_API_KEY\")\n",
    "web_search_tool = GoogleSearchClient(api_key)\n",
    "web_search_agent = SearchManager(web_search_tool)"
   ]
  },
  {
   "cell_type": "code",
   "execution_count": 12,
   "metadata": {},
   "outputs": [
    {
     "name": "stdout",
     "output_type": "stream",
     "text": [
      "['https://www.toppr.com/ask/question/does-sound-follow-the-same-laws-of-reflection-as-light/', 'https://byjus.com/question-answer/does-sound-follow-the-laws-of-reflection-as-light-does/', 'https://www.doubtnut.com/pcmb-questions/130851']\n"
     ]
    }
   ],
   "source": [
    "# Example query\n",
    "query = \"Does sound follow the same laws of reflection as light does? Explain\"\n",
    "print(web_search_agent.get_search_results(query))"
   ]
  },
  {
   "cell_type": "markdown",
   "metadata": {},
   "source": [
    "**Text to Speech Service Integration using SarvamAI's API**"
   ]
  },
  {
   "cell_type": "code",
   "execution_count": 13,
   "metadata": {},
   "outputs": [],
   "source": [
    "import base64\n",
    "\n",
    "async def generate_speech(text: str) -> str:\n",
    "    \"\"\"Generate speech from text using the Sarvam API and save it as a WAV file.\"\"\"\n",
    "    url = \"https://api.sarvam.ai/text-to-speech\"\n",
    "\n",
    "    # Prepare the payload for the API request\n",
    "    payload = {\n",
    "        \"inputs\": [text],\n",
    "        \"target_language_code\": \"hi-IN\",\n",
    "        \"speaker\": \"meera\",\n",
    "        \"pitch\": 0,\n",
    "        \"pace\": 1.65,\n",
    "        \"loudness\": 1.5,\n",
    "        \"speech_sample_rate\": 8000,\n",
    "        \"enable_preprocessing\": True,\n",
    "        \"model\": \"bulbul:v1\"\n",
    "    }\n",
    "\n",
    "    headers = {\n",
    "        \"api-subscription-key\": os.getenv(\"SARVAMAI_API_KEY\"),\n",
    "        \"Content-Type\": \"application/json\"\n",
    "    }\n",
    "\n",
    "    # Make the API request\n",
    "    response = requests.post(url, json=payload, headers=headers)\n",
    "\n",
    "    if response.status_code == 200:\n",
    "        audio_data = response.json().get('audios', [None])[0]\n",
    "        if audio_data:\n",
    "            file_path = 'output_audio.wav'\n",
    "            # Save the audio data to a file\n",
    "            with open(file_path, 'wb') as audio_file:\n",
    "                audio_file.write(base64.b64decode(audio_data))  \n",
    "            return file_path  \n",
    "        else:\n",
    "            raise Exception(\"No audio data found in the response\")\n",
    "    else:\n",
    "        raise Exception(f\"Error: {response.status_code}, {response.text}\")"
   ]
  },
  {
   "cell_type": "markdown",
   "metadata": {},
   "source": [
    "**FastAPI Endpoint - Navigate to http://localhost:8000/ or http://127.0.0.1:8000/ to access your application.**"
   ]
  },
  {
   "cell_type": "code",
   "execution_count": 14,
   "metadata": {},
   "outputs": [
    {
     "name": "stderr",
     "output_type": "stream",
     "text": [
      "INFO:     Started server process [1436]\n",
      "INFO:     Waiting for application startup.\n",
      "INFO:     Application startup complete.\n",
      "INFO:     Uvicorn running on http://0.0.0.0:8000 (Press CTRL+C to quit)\n"
     ]
    },
    {
     "name": "stdout",
     "output_type": "stream",
     "text": [
      "INFO:     127.0.0.1:61245 - \"GET / HTTP/1.1\" 200 OK\n",
      "INFO:     127.0.0.1:61245 - \"GET /favicon.ico HTTP/1.1\" 404 Not Found\n",
      "INFO:     127.0.0.1:61245 - \"POST /ask/ HTTP/1.1\" 200 OK\n",
      "INFO:     127.0.0.1:61245 - \"GET /audio/output_audio.wav HTTP/1.1\" 200 OK\n",
      "INFO:     127.0.0.1:61512 - \"GET / HTTP/1.1\" 200 OK\n",
      "INFO:     127.0.0.1:61520 - \"GET / HTTP/1.1\" 200 OK\n"
     ]
    }
   ],
   "source": [
    "from fastapi import FastAPI, HTTPException\n",
    "from fastapi.responses import FileResponse\n",
    "from fastapi.middleware.cors import CORSMiddleware  # Import CORS middleware\n",
    "from pydantic import BaseModel\n",
    "import uvicorn\n",
    "import asyncio\n",
    "\n",
    "app = FastAPI()\n",
    "\n",
    "# Configure CORS middleware to allow cross-origin requests\n",
    "app.add_middleware(\n",
    "    CORSMiddleware,\n",
    "    allow_origins=[\"*\"],  \n",
    "    allow_credentials=True,\n",
    "    allow_methods=[\"*\"],  \n",
    "    allow_headers=[\"*\"],  \n",
    ")\n",
    "\n",
    "# Define the input model for the query\n",
    "class Query(BaseModel):\n",
    "    question: str\n",
    "\n",
    "# Endpoint to handle question-asking\n",
    "@app.post(\"/ask/\")\n",
    "async def ask_rag(query: Query): \n",
    "    # Classify the query to check relevance\n",
    "    if selective_retrieval_agent.classify_query(query.question):\n",
    "        # Invoke the chain with the question\n",
    "        response = chain.invoke(query.question)\n",
    "        response += \"\\n\" + \"In response to your query, here are the links I found:\"\n",
    "\n",
    "        # Get related links from the web search agent\n",
    "        links = web_search_agent.get_search_results(query.question)\n",
    "\n",
    "        # Generate audio response for the text\n",
    "        audio_file_path = await generate_speech(response)\n",
    "\n",
    "        return {\n",
    "            \"response\": response,  \n",
    "            \"links\": links,       \n",
    "            \"audio_file\": audio_file_path  \n",
    "        }\n",
    "    else:\n",
    "        # If the query is not relevant\n",
    "        response = \"The query is not relevant to Chapter 11: Sound.\"\n",
    "        \n",
    "        # Generate audio response for the text\n",
    "        audio_file_path = await generate_speech(response)\n",
    "\n",
    "        return {\n",
    "            \"response\": response,  \n",
    "            \"audio_file\": audio_file_path  \n",
    "        }\n",
    "    \n",
    "# Endpoint to serve generated audio files\n",
    "@app.get(\"/audio/{file_name}\")\n",
    "def get_audio(file_name: str):\n",
    "    file_path = os.path.join(os.getcwd(), file_name)  # Construct file path\n",
    "    if os.path.exists(file_path):\n",
    "        return FileResponse(file_path)  # Serve the audio file\n",
    "    else:\n",
    "        raise HTTPException(status_code=404, detail=\"Audio file not found\")  # Return 404 if not found\n",
    "\n",
    "# Endpoint to serve the frontend HTML\n",
    "@app.get(\"/\")\n",
    "def serve_frontend():\n",
    "    return FileResponse(\"frontend.html\")  # Serve the frontend HTML file\n",
    "\n",
    "if __name__ == \"__main__\":\n",
    "    config = uvicorn.Config(app, host=\"0.0.0.0\", port=8000)  # Configure Uvicorn server\n",
    "    server = uvicorn.Server(config)\n",
    "    \n",
    "    # Run the server\n",
    "    if not asyncio.get_event_loop().is_running():\n",
    "        server.run()\n",
    "    else:\n",
    "        asyncio.create_task(server.serve())  # Create a task to run the server if the loop is already running"
   ]
  }
 ],
 "metadata": {
  "kernelspec": {
   "display_name": "Python 3",
   "language": "python",
   "name": "python3"
  },
  "language_info": {
   "codemirror_mode": {
    "name": "ipython",
    "version": 3
   },
   "file_extension": ".py",
   "mimetype": "text/x-python",
   "name": "python",
   "nbconvert_exporter": "python",
   "pygments_lexer": "ipython3",
   "version": "3.11.9"
  }
 },
 "nbformat": 4,
 "nbformat_minor": 2
}
